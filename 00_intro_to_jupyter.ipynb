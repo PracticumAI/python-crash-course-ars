{
 "cells": [
  {
   "cell_type": "markdown",
   "id": "a2c4894d",
   "metadata": {
    "id": "d293edfa-4420-4e96-90c7-78f1cf78cc00"
   },
   "source": [
    "![Practicum AI Logo image](https://github.com/PracticumAI/practicumai.github.io/blob/main/images/logo/PracticumAI_logo_250x50.png?raw=true) <img src='https://github.com/PracticumAI/practicumai.github.io/blob/main/images/icons/practicumai_python.png?raw=true' align='right' width=50>\n",
    "\n",
    "# *Practicum AI: Python Crash Course - Jupyter Notebooks and JupyterLabs*\n",
    "\n",
    "Welcome! This notebook will help familiarize you with Jupyter notebooks and the JupyterLabs Interface.\n",
    "\n",
    "***"
   ]
  },
  {
   "cell_type": "markdown",
   "id": "a8dbc5c0",
   "metadata": {
    "id": "e7f126cc-e5ea-4c8c-8378-14886a9ee850"
   },
   "source": [
    "## Markdown cells\n",
    "\n",
    "Jupyter notebooks have two main types of cells: **Markdown** and **Code**.\n",
    "\n",
    "**Markdown** cells allow you to use symbols that are then rendered into nicely formatted text, tables, images, etc. [Markdown](https://en.wikipedia.org/wiki/Markdown) was created in 2004 as a plain text languge for generating formatted text that was itself readable in plain text. It is now widely used across many platforms. While there is a base standard, implementations can differ in some details. The official [Jupyter Notebook markdown](https://jupyter-notebook.readthedocs.io/en/stable/examples/Notebook/Working%20With%20Markdown%20Cells.html) documentation provides a good overview. You will mostly not need to create markdown for the *Practicum AI* courses, but it will be used to provide the explanatory information for you as you run the code.\n",
    "\n",
    "### To do\n",
    "\n",
    "* **Double click on this cell to see the raw Markdown text that is rendered to create the formatted text.**\n",
    "   * When you are done, either click the play button in the top row, or type Shift-Enter on your keyboard.\n",
    "   ![Screenshot showing the play button in Jupyter to run code cells or render Markdown cells](https://github.com/practicumai/python-crash-course-ars/blob/main/images/Jupyter_play.png?raw=1)\n"
   ]
  },
  {
   "cell_type": "markdown",
   "id": "4a808063",
   "metadata": {
    "id": "6fd0f4e0-26ef-463c-a341-94b279ca2208"
   },
   "source": [
    "## Now run the code cell below\n"
   ]
  },
  {
   "cell_type": "code",
   "execution_count": null,
   "id": "eabb7fa2",
   "metadata": {
    "colab": {
     "base_uri": "https://localhost:8080/"
    },
    "id": "2edd1e49-1c6c-413a-a343-ed62dffcd3f8",
    "outputId": "586d9d13-01b5-4f46-aac7-491cd54acb3c"
   },
   "outputs": [],
   "source": [
    "# This cell is a code cell. We will learn about Python in the next course, but\n",
    "# this line is a comment since it starts with a \"#\".\n",
    "# To run a code cell, as with rendering Markdown cells, you can either click\n",
    "# the play button or type Shift-Enter in Windows and Linux or Command-Enter on Mac. Click into this cell and run it!\n",
    "\n",
    "print(\"Welcome to Practicum AI's Jupyter Notebook tutorial!\")"
   ]
  },
  {
   "cell_type": "markdown",
   "id": "911cc628",
   "metadata": {
    "id": "bd75b04b-b07f-4cf5-b595-69d170b5c134"
   },
   "source": [
    "## Code cell explanation\n",
    "\n",
    "The image below highlights the expected output from the code cell above. \n",
    "\n",
    "![Screenshot of the cell after execution highlighting the parts described in the text below](https://github.com/practicumai/python-crash-course-ars/blob/main/images/Jupyter_Code_Cell.png?raw=1)\n",
    "\n",
    "* The cell execution counter to the left of the cell will have a number in square brackets. That helps you keep track of which cells have been run and in what order. \n",
    "   * If a cell has not been run, it will not have a number. \n",
    "   * Cells in a notebook can be run in any order, and the order does matter. Keep that in mind and check the numbers if you get unexpected results. Typically, it is best to start at the top and work your way down, but sometimes you will skip around--just be careful when you do that.\n",
    "   * While a cell is running, the square brackets will have an asterisk ([\\*]). Some cells, especially model training cells, can take some time to run. While one cell is running, all other cells will be blocked from running. In a notebook, only one cell can run at a time.\n",
    "* Code cells can have text comments on lines that start with a hashtag (#). Comments can also end a line of code; anything after the hashtag is a comment.\n",
    "   * Comments are one way of documenting your code and make it easier for you and others to know what each cell or line of code is doing.\n",
    "* Code in the cells is what will be run when you execute the cell. Jupyter applies contextual coloring to the code to help enhance readability and help you catch typos--if you forget to close the quoted text for example, the red color continues past where you wanted to stop."
   ]
  },
  {
   "cell_type": "markdown",
   "id": "351d4256",
   "metadata": {
    "id": "dda9f12e-c412-4c69-8605-298b9e83010b"
   },
   "source": [
    "## Modify a code cell\n",
    "\n",
    "Above, we wrote some code to print a welcome message. Use the cell below to print something else, maybe personalize the message with your name!"
   ]
  },
  {
   "cell_type": "code",
   "execution_count": null,
   "id": "3be16a56",
   "metadata": {
    "colab": {
     "base_uri": "https://localhost:8080/"
    },
    "id": "c63b9caf-825a-4147-93f6-6f3bf087649d",
    "outputId": "13f4031d-f257-4245-acb8-7f960243f9ac"
   },
   "outputs": [],
   "source": [
    "# Add your code here to print something\n",
    "print(\"This is awesome!!\")"
   ]
  },
  {
   "cell_type": "markdown",
   "id": "6a1caa7c",
   "metadata": {
    "id": "de5b11ec-9df1-48e7-852d-e559f03acb92"
   },
   "source": [
    "## Add your notes\n",
    "\n",
    "Use this cell to add some notes to yourself on Jupyter notebooks (remember, you will need to double click to edit the contents of a markdown cell).\n",
    "\n",
    "* Notebooks have two types of cells:\n",
    "    * Markdown cells where I can use Markdown to create formatted text.\n",
    "    * Code cells where I write the code that can be run.\n",
    "* The order in which code cells are run is important!"
   ]
  },
  {
   "cell_type": "markdown",
   "id": "0672c1f9",
   "metadata": {
    "id": "d57ba71c-d3c6-4329-b36d-20947e0a5563"
   },
   "source": [
    "## JupyterLabs\n",
    "\n",
    "JupyterLabs is an interface that allows you to work with Jupyter notebooks and other files in a more flexible way. It is a more powerful interface than the classic Jupyter notebook interface. You can open multiple tabs, drag and drop files, and more. Let's take a look at some of the more common features.\n",
    "\n",
    "![Screenshot of JupyterLabs interface showing the upload button and the active notebook icon](https://github.com/practicumai/python-crash-course-ars/blob/main/images/JupyterLab_upload.png?raw=1)\n",
    "\n",
    "You can open multiple files at once and switch between them by clicking on the file name. You can also drag and drop files to reorder them. To upload a file to the current directory, click on the \"Upload\" button shown above and select the file you want to upload. \n",
    "\n",
    "As you can see in the image above, the dot next to a file means it's open. Closing a file doesn't free up the memory. To do that, you need to click on the \"Shutdown\" button.\n",
    "\n",
    "![Screenshot of JupyterLabs interface showing the context menu and the navigation hyperlinks](https://github.com/practicumai/python-crash-course-ars/blob/main/images/JupyterLab_download.png?raw=1)\n",
    "\n",
    "Here you can see the context menu that appears when you right-click on a file. You can download the file, rename it, duplicate it, delete it or shut it down to free up it's recourses.\n",
    "\n",
    "Also highlighted are the navigation hyperlinks that allow you to navigate through the file system. The \"breadcrumbs\" show you the path to the current folder. You can click on any part of the path to navigate to that folder.\n",
    "\n",
    "The last thing we'll look at is the kernel status indicator. If it's a filled circle, the kernel is busy. If it's an empty circle, the kernel is idle. A kernel is a computational engine that executes the code contained in a notebook document, like a mini operating system that runs the code in the notebook. Many problems can be solved by restarting the kernel. To do that, click on the \"Kernel\" menu and select \"Restart Kernel\".\n",
    "\n",
    "![Screenshot of JupyterLabs interface showing the kernel information](https://github.com/practicumai/python-crash-course-ars/blob/main/images/JupyterLab_kernel.png?raw=1)"
   ]
  },
  {
   "cell_type": "markdown",
   "id": "4521d367",
   "metadata": {
    "id": "9f8e9eee-71e0-418b-9a11-557ff19f0c1d"
   },
   "source": [
    "## Saving and Deleting in JupyterLabs\n",
    "\n",
    "We're frequently asked about autosave and deleting files in JupyterLabs:\n",
    "\n",
    "By default, JupyterLabs autosaves your work every 120 seconds. You can change this setting by going to the \"Settings\" menu and selecting \"Advanced Settings Editor\". In the \"Settings\" tab, you can change the \"Save Interval\" setting.\n",
    "\n",
    "Deleting files in JupyterLabs is PERMANENT. If you delete a file, it will be removed from the directory and cannot be recovered. Be careful when deleting files!\n",
    "\n",
    "## Summary\n",
    "\n",
    "In this notebook, we've covered the basics of Jupyter notebooks and JupyterLabs. We've seen how to run code cells, add notes, and navigate the JupyterLabs interface. We hope this information will help you get started with Jupyter notebooks and JupyterLabs!\n"
   ]
  },
  {
   "cell_type": "markdown",
   "id": "a8239b64",
   "metadata": {},
   "source": []
  }
 ],
 "metadata": {
  "colab": {
   "provenance": []
  },
  "kernelspec": {
   "display_name": "intro_python_env",
   "language": "python",
   "name": "intro_python_env"
  },
  "language_info": {
   "codemirror_mode": {
    "name": "ipython",
    "version": 3
   },
   "file_extension": ".py",
   "mimetype": "text/x-python",
   "name": "python",
   "nbconvert_exporter": "python",
   "pygments_lexer": "ipython3",
   "version": "3.12.5"
  }
 },
 "nbformat": 4,
 "nbformat_minor": 5
}
